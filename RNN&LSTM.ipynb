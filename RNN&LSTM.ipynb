{
 "cells": [
  {
   "cell_type": "markdown",
   "metadata": {},
   "source": [
    "### HW5Q3"
   ]
  },
  {
   "cell_type": "code",
   "execution_count": 1,
   "metadata": {},
   "outputs": [],
   "source": [
    "import os\n",
    "import numpy as np\n",
    "import collections\n",
    "import pickle\n",
    "import argparse\n",
    "import tensorflow as tf\n",
    "import time\n",
    "import matplotlib.pyplot as plt\n",
    "%matplotlib inline"
   ]
  },
  {
   "cell_type": "markdown",
   "metadata": {},
   "source": [
    "# Parameters used in code"
   ]
  },
  {
   "cell_type": "code",
   "execution_count": 46,
   "metadata": {},
   "outputs": [],
   "source": [
    "parser = argparse.ArgumentParser()\n",
    "parser.add_argument('--data_dir', default='/project2/cmsc25025/Shakespear/')\n",
    "parser.add_argument('--save_dir', default='./')\n",
    "# Dimension of hidden layer variables h and c\n",
    "parser.add_argument('--num_units', default=128*2)\n",
    "parser.add_argument('--batch_size', default=64)\n",
    "# Number of steps in each batch for training\n",
    "parser.add_argument('--num_steps', default=75)\n",
    "parser.add_argument('--num_epochs', default=3)\n",
    "# Time step\n",
    "parser.add_argument('--lr', default=0.002)\n",
    "# Number of possible inputs/outputs \n",
    "parser.add_argument('--num_chars')\n",
    "parser.add_argument('--num_batches',default=20)\n",
    "args, unparsed = parser.parse_known_args()"
   ]
  },
  {
   "cell_type": "code",
   "execution_count": 3,
   "metadata": {},
   "outputs": [],
   "source": [
    "def timer(start, end):\n",
    "    hrs, rem = divmod(end-start, 3600)\n",
    "    mins, secs = divmod(rem, 60)\n",
    "    print('{:0>2} hours {:0>2} minutes {:05.2f} seconds'.format(int(hrs), int(mins), secs))"
   ]
  },
  {
   "cell_type": "code",
   "execution_count": 4,
   "metadata": {},
   "outputs": [],
   "source": [
    "class TextLoader():\n",
    "\n",
    "    def __init__(self, data_dir, batch_size=64, seq_length=50, encoding='utf-8'):\n",
    "        self.data_dir = data_dir\n",
    "        self.encoding = encoding\n",
    "        self.batch_size = batch_size\n",
    "        self.seq_length = seq_length\n",
    "\n",
    "        self.input_file = os.path.join(data_dir, 'tinyshakespeare.txt')\n",
    "        self.vocab_file = os.path.join(data_dir, 'vocab.pkl')\n",
    "        # Numeric file of characters translated to indices.\n",
    "        self.tensor_file = os.path.join(data_dir, 'data.npy')\n",
    "        \n",
    "        if not (os.path.exists(self.vocab_file) and os.path.exists(self.tensor_file)):\n",
    "            print('it seems we havent processed the text data yet: reading the shakespear')\n",
    "            self.preprocess(self.input_file, self.vocab_file, self.tensor_file)\n",
    "        else:\n",
    "            print('there are preprocessed data - lets load it')\n",
    "            self.load_preprocessed(self.vocab_file, self.tensor_file)\n",
    "\n",
    "        self.create_batches()\n",
    "        self.reset_batch_pointer()\n",
    "\n",
    "    # Create numeric file.\n",
    "    def preprocess(self, input_file=None, vocab_file=None, tensor_file=None, saveit=True):\n",
    "        if input_file is not None:\n",
    "            self.input_file = input_file\n",
    "        if vocab_file is not None:\n",
    "            self.vocab_file = vocab_file\n",
    "        if tensor_file is not None:\n",
    "            self.tensor_file = tensor_file\n",
    "\n",
    "        with open(self.input_file, 'r') as f:\n",
    "            data = f.read()\n",
    "        #data = data.lower()\n",
    "        self.total_length = len(data)\n",
    "        counter = collections.Counter(data)\n",
    "        count_pairs = sorted(counter.items(), key=lambda x: -x[1])\n",
    "        self.chars, _ = zip(*count_pairs)\n",
    "        self.vocab_size = len(self.chars)\n",
    "        self.vocab_to_idx = dict(zip(self.chars, range(len(self.chars))))\n",
    "        self.idx_to_vocab = dict(zip(self.vocab_to_idx.values(), self.vocab_to_idx.keys()))\n",
    "\n",
    "        if saveit:\n",
    "            with open(self.vocab_file, 'wb') as f:  # saving dictionary so we don't compute it again\n",
    "                pickle.dump(self.chars, f)\n",
    "            self.tensor = np.array(list(map(self.vocab_to_idx.get, data)))\n",
    "            np.save(self.tensor_file, self.tensor)  # saving the numerified data\n",
    "    # Load numeric file create dictionaries for char2idx and back\n",
    "    def load_preprocessed(self, vocab_file=None, tensor_file=None):\n",
    "        if vocab_file is not None:\n",
    "            self.vocab_file = vocab_file\n",
    "        if tensor_file is not None:\n",
    "            self.tensor_file = tensor_file\n",
    "\n",
    "        with open(self.vocab_file, 'rb') as f:\n",
    "            self.chars = pickle.load(f)\n",
    "\n",
    "        # attributes\n",
    "        self.vocab_size = len(self.chars)\n",
    "        self.vocab = dict(zip(self.chars, range(self.vocab_size)))\n",
    "        self.vocab_to_idx = dict(zip(self.chars, range(len(self.chars))))\n",
    "        self.idx_to_vocab = dict(zip(self.vocab_to_idx.values(), self.vocab_to_idx.keys()))\n",
    "        self.tensor = np.load(tensor_file)\n",
    "        self.num_batches = int(self.tensor.size / (self.batch_size * self.seq_length))\n",
    "            \n",
    "    # tensor size = the length of the entire data sequence\n",
    "    # divide into batch_size sub sequences and stack\n",
    "    # cut those by seq_length to produce batches of [batch size, seq_length] sized examples\n",
    "    def create_batches(self):\n",
    "\n",
    "        \n",
    "        self.num_batches = int(self.tensor.size / (self.batch_size * self.seq_length))\n",
    "\n",
    "        if self.num_batches == 0:\n",
    "            assert False, 'Not enough data. Make seq_length and/or batch_size smaller'\n",
    "\n",
    "        self.tensor = self.tensor[:self.num_batches * \n",
    "                                  self.batch_size * self.seq_length]  # so we get an even divide\n",
    "        xdata = self.tensor\n",
    "        ydata = np.copy(self.tensor)\n",
    "\n",
    "        # ydata is one step ahead of x and last item is first item of x \n",
    "        # to get sequences of same length    \n",
    "        ydata[:-1] = xdata[1:] \n",
    "        ydata[-1] = xdata[0]\n",
    "\n",
    "        self.x_batches = np.split(xdata.reshape(self.batch_size, -1), self.num_batches, 1)\n",
    "        self.y_batches = np.split(ydata.reshape(self.batch_size, -1), self.num_batches, 1)\n",
    "        \n",
    "        self.train_num_batches=np.int32(self.num_batches*.8)\n",
    "        self.test_num_batches=self.num_batches-self.train_num_batches\n",
    "        self.train_x_batches=self.x_batches[0:self.train_num_batches]\n",
    "        self.train_y_batches=self.y_batches[0:self.train_num_batches]\n",
    "        self.test_x_batches=self.x_batches[self.train_num_batches:]\n",
    "        self.test_y_batches=self.y_batches[self.train_num_batches:]\n",
    "\n",
    "        # xdata: L length\n",
    "        # xdata reshaped: batch_size, (L/batch_size) length following natural indexing\n",
    "        # np.split: into num batches batches along the width(sentence)\n",
    "\n",
    "    def next_batch_train(self):\n",
    "        x, y = self.train_x_batches[self.pointer], self.train_y_batches[self.pointer]\n",
    "        self.pointer += 1\n",
    "        return x,y\n",
    "    \n",
    "    def next_batch_test(self):\n",
    "        x, y = self.test_x_batches[self.pointer], self.test_y_batches[self.pointer]\n",
    "        self.pointer += 1\n",
    "        return x,y\n",
    "\n",
    "    def reset_batch_pointer(self):\n",
    "        self.pointer = 0"
   ]
  },
  {
   "cell_type": "code",
   "execution_count": 47,
   "metadata": {},
   "outputs": [
    {
     "name": "stdout",
     "output_type": "stream",
     "text": [
      "there are preprocessed data - lets load it\n",
      "num chars 65\n",
      "num batches 232\n"
     ]
    }
   ],
   "source": [
    "loader = TextLoader(args.data_dir, batch_size=args.batch_size, seq_length=args.num_steps)\n",
    "args.num_chars = loader.vocab_size\n",
    "print('num chars',args.num_chars)\n",
    "print('num batches',loader.num_batches)"
   ]
  },
  {
   "cell_type": "markdown",
   "metadata": {},
   "source": [
    "# Basic RNN"
   ]
  },
  {
   "cell_type": "code",
   "execution_count": 6,
   "metadata": {
    "hideOutput": true
   },
   "outputs": [],
   "source": [
    "class MyBasicRNNCell(tf.contrib.rnn.BasicRNNCell):\n",
    "\n",
    "    def build(self, inputs_shape):\n",
    "\n",
    "        input_depth = inputs_shape[1].value\n",
    "        \n",
    "        self.W = self.add_variable(name=\"W\", shape=[input_depth + \n",
    "                                                    self._num_units, self._num_units])\n",
    "        self.b = self.add_variable(name=\"b\", shape=[self._num_units], \n",
    "                                   initializer=tf.zeros_initializer())\n",
    "        \n",
    "        self.built = True\n",
    "\n",
    "    def call(self, inputs, state):\n",
    "        \"\"\"Most basic RNN: output = new_state = act(W * input + U * state + B).\"\"\"\n",
    "        \n",
    "        output = tf.tanh(tf.matmul(tf.concat([inputs, state], 1), self.W)) + self.b\n",
    "\n",
    "        return output, output"
   ]
  },
  {
   "cell_type": "markdown",
   "metadata": {},
   "source": [
    "# Basic LSTM"
   ]
  },
  {
   "cell_type": "code",
   "execution_count": 7,
   "metadata": {},
   "outputs": [],
   "source": [
    "LSTMStateTuple = collections.namedtuple(\"LSTMStateTuple\", (\"c\", \"h\"))\n",
    "\n",
    "class MyBasicLSTMCell(tf.contrib.rnn.BasicLSTMCell):\n",
    "\n",
    "    def build(self, inputs_shape):\n",
    "\n",
    "        input_depth = inputs_shape[1].value\n",
    "        #The four W weights for the four different input computations concatenated\n",
    "        self.W = self.add_variable(name=\"W\", shape=[input_depth + self._num_units,\n",
    "                                                    4 * self._num_units])\n",
    "        self.b= self.add_variable(name=\"b\", shape=[4 * self._num_units], \n",
    "                                  initializer=tf.zeros_initializer())\n",
    "\n",
    "        self.built = True\n",
    "\n",
    "    def call(self, inputs, state):\n",
    "\n",
    "        one = tf.constant(1, dtype=tf.int32)\n",
    "        c, h = state\n",
    "\n",
    "        gate_inputs = tf.matmul(tf.concat([inputs, h], axis=1), self.W) + self.b\n",
    "\n",
    "        input_gate_weights, input_weights, forget_gate_weights, \n",
    "        output_gate_weights = tf.split(\n",
    "            value=gate_inputs, num_or_size_splits=4, axis=one)\n",
    "\n",
    "        # forget gating\n",
    "        forget_bias_tensor = tf.constant(1.0, dtype=forget_gate_weights.dtype)\n",
    "        forget_gate = tf.sigmoid(forget_gate_weights + forget_bias_tensor)\n",
    "        gated_memory = c * forget_gate\n",
    "\n",
    "        # input gating\n",
    "        processed_new_input = tf.tanh(input_weights)\n",
    "        input_gate = tf.sigmoid(input_gate_weights)\n",
    "        gated_input = input_gate * processed_new_input\n",
    "\n",
    "        # updating memory\n",
    "        new_c = gated_memory + gated_input\n",
    "\n",
    "        # output gating\n",
    "        processed_memory = tf.tanh(new_c)\n",
    "        output_gate = tf.sigmoid(output_gate_weights)\n",
    "        new_h = processed_memory * output_gate\n",
    "\n",
    "        new_state = tf.nn.rnn_cell.LSTMStateTuple(new_c, new_h)\n",
    "\n",
    "        return new_h, new_state"
   ]
  },
  {
   "cell_type": "code",
   "execution_count": 8,
   "metadata": {},
   "outputs": [],
   "source": [
    "def network(myCell,inputs,targets, multilayer=None):\n",
    "\n",
    "    with tf.variable_scope('embedding_matrix'):\n",
    "        # Embedding matrix of dimension num_units (here same as dim of hidden units) is trained\n",
    "        embedding = tf.get_variable('embedding', [args.num_chars, \n",
    "                                                  args.num_units])\n",
    "        embedded_inputs = tf.nn.embedding_lookup(embedding, inputs)\n",
    "        inputs_list = tf.unstack(embedded_inputs, axis=1)  \n",
    "        # shape: a list of [batch_size, num_units] length num_steps\n",
    "\n",
    "    with tf.variable_scope('Cell') as myscope:\n",
    "        # Setup the `F' function either a simple RNN unit or an LSTM\n",
    "        cell = myCell(args.num_units)\n",
    "        init_state = cell.zero_state(args.batch_size, tf.float32)\n",
    "        state = init_state\n",
    "        outputs = []\n",
    "\n",
    "        for time_, input in enumerate(inputs_list):\n",
    "            # Unroll the RNN into as many layers as there are observations in each\n",
    "            # training sequence. The weights are all tied with the reuse command.\n",
    "            if time_ > 0:\n",
    "                myscope.reuse_variables()\n",
    " \n",
    "            output, state = cell(input, state)\n",
    "                \n",
    "            # Append all the outputs - hidden variables\n",
    "            outputs.append(output)\n",
    "    # All hidden outputs for each batch and every step in the batch are reshaped\n",
    "    # as one long matrix to be transformed to logits by Vand compared to targets.\n",
    "        output_reshaped = tf.reshape(tf.concat(outputs, 1), [-1, args.num_units])\n",
    "\n",
    "        final_state = state\n",
    "\n",
    "    # Create a softmax from the output of each step in each of the samples in the batch.\n",
    "    with tf.variable_scope('regression'):\n",
    "        V = tf.get_variable('V', [args.num_units, args.num_chars])\n",
    "        c = tf.get_variable('c', [args.num_chars], \n",
    "                            initializer=tf.constant_initializer(0.0))\n",
    "        logits = tf.matmul(output_reshaped, V) + c\n",
    "        prob = tf.nn.softmax(logits)\n",
    "        \n",
    "    # Evaluate with respect to ground truth using log-likeihood\n",
    "    with tf.variable_scope('cost'):\n",
    "        targets_straightened = tf.reshape(targets, [-1])\n",
    "        crossentropy = tf.nn.sparse_softmax_cross_entropy_with_logits(logits=logits, \n",
    "                                                    labels=targets_straightened)\n",
    "        loss = tf.reduce_mean(crossentropy)\n",
    "        cost = loss/args.batch_size/args.num_steps\n",
    "\n",
    "    with tf.variable_scope('optimizer'):\n",
    "        train_step = tf.train.AdamOptimizer(args.lr).minimize(loss)\n",
    "\n",
    "    with tf.variable_scope('saver'):\n",
    "        saver = tf.train.Saver()\n",
    "        \n",
    "    # Accuracy computation\n",
    "    with tf.variable_scope('helpers'):\n",
    "        pred = tf.cast(tf.argmax(prob, axis=1), tf.int32)\n",
    "        correct_prediction = tf.equal(pred, targets_straightened)\n",
    "        accuracy = tf.reduce_mean(tf.cast(correct_prediction, tf.float32))\n",
    "        \n",
    "    return init_state, train_step, loss, final_state, saver, prob, accuracy"
   ]
  },
  {
   "cell_type": "code",
   "execution_count": 9,
   "metadata": {},
   "outputs": [],
   "source": [
    "def trainer(myCell, num_batches=None, plot=False):\n",
    "    \n",
    "    start_time = time.time()\n",
    "    tf.reset_default_graph()\n",
    "    # Define the placeholders\n",
    "    with tf.variable_scope('placeholders'):\n",
    "            inputs = tf.placeholder(tf.int32, [args.batch_size, args.num_steps])\n",
    "            targets = tf.placeholder(tf.int32, [args.batch_size, args.num_steps])\n",
    "    # Create the network\n",
    "    init_state, train_step, loss, final_state, saver, prob, accuracy =network(\n",
    "        myCell,inputs,targets)\n",
    "    print('train_num_batches',loader.train_num_batches)\n",
    "    \n",
    "    if (num_batches is None):\n",
    "        num_batches=loader.train_num_batches\n",
    "\n",
    "    with tf.Session() as sess:\n",
    "         \n",
    "        sess.run(tf.global_variables_initializer())\n",
    "        # computation graph for training\n",
    "        training_losses = []\n",
    "        training_err = []\n",
    "\n",
    "        for epoch in range(args.num_epochs):\n",
    "            loader.reset_batch_pointer()\n",
    "            # Initial state - 0\n",
    "            state_ = sess.run(init_state)\n",
    "            training_loss = 0\n",
    "            training_acc = 0\n",
    "\n",
    "            for batch in range(num_batches):\n",
    "                x, y = loader.next_batch_train()\n",
    "\n",
    "                feed_dict = dict()\n",
    "                feed_dict[inputs] = x\n",
    "                feed_dict[targets] = y\n",
    "                \n",
    "                # RNN has just an input state.\n",
    "                if ('RNN' in myCell.__name__):\n",
    "                    feed_dict[init_state] = state_\n",
    "                else:\n",
    "                    # LSTM has a 'c' and an 'h' component of the hidden state.\n",
    "                    feed_dict[init_state.c] = state_.c\n",
    "                    feed_dict[init_state.h] = state_.h\n",
    "                # Output states of current batch get fed into initial state of next batch.\n",
    "                train_loss_, state_, _, train_acc_ = sess.run([loss, \n",
    "                                                               final_state, train_step, \n",
    "                                                               accuracy], feed_dict=feed_dict)\n",
    "                training_loss += train_loss_\n",
    "                training_acc += train_acc_\n",
    "                \n",
    "            training_loss=training_loss/num_batches\n",
    "            training_acc=training_acc/num_batches\n",
    "            print('epoch:', epoch, 'loss:',  training_loss)\n",
    "            training_losses.append(training_loss)\n",
    "            print('epoch:', epoch, 'error:',  1-training_acc)\n",
    "            training_err.append(1-training_acc)\n",
    "\n",
    "        saver.save(sess, os.path.join(args.save_dir, 'saved_model'))\n",
    "        if plot:\n",
    "            fig = plt.figure(figsize=(9,6))\n",
    "            plt.plot(list(range(args.num_epochs)), training_err, label=\"{} set\".format(type))\n",
    "            plt.legend()\n",
    "            plt.xlabel(\"Number of Epoch\", fontsize=10)\n",
    "            plt.ylabel(\"Error Rate\", fontsize=10)\n",
    "            plt.title(\"Error Rate vs Epoch Number on {}\".format(type), fontsize=15)\n",
    "            plt.show()\n",
    "    \n",
    "    end_time = time.time()\n",
    "    timer(start_time, end_time)\n",
    "    return(training_losses, training_err)"
   ]
  },
  {
   "cell_type": "code",
   "execution_count": 10,
   "metadata": {},
   "outputs": [],
   "source": [
    "def Tester(MyCell, num_batches=None):\n",
    "    tf.reset_default_graph()\n",
    "    with tf.variable_scope('placeholders'):\n",
    "            inputs = tf.placeholder(tf.int32, [args.batch_size, args.num_steps])\n",
    "            targets = tf.placeholder(tf.int32, [args.batch_size, args.num_steps])\n",
    "    init_state, train_step, loss, final_state, saver, prob, \n",
    "    accuracy=network(MyCell,inputs,targets)\n",
    "\n",
    "    # Define initialization\n",
    "    initialization = 'Where are you going today?'\n",
    "    loader= TextLoader(args.data_dir, batch_size=args.batch_size, \n",
    "                       seq_length=args.num_steps)\n",
    "\n",
    "    forecast_data=np.array(list(map(loader.vocab_to_idx.get, initialization)))\n",
    "    print(forecast_data)\n",
    "    forecast_range = 100\n",
    "    top_k=5\n",
    " \n",
    "    if (num_batches is None):\n",
    "        num_batches=loader.test_num_batches\n",
    "    with tf.Session() as sess:\n",
    "\n",
    "        # Load saved model\n",
    "        saver.restore(sess, 'saved_model')\n",
    "        state_ = sess.run(init_state)\n",
    "\n",
    "        loader.reset_batch_pointer()\n",
    "        \n",
    "         # Get test error loss\n",
    "        test_loss = 0\n",
    "        test_acc = 0\n",
    "        print('num_batches',num_batches)\n",
    "\n",
    "        for batch in range(num_batches):\n",
    "\n",
    "            x, y = loader.next_batch_test()\n",
    "\n",
    "            feed_dict = dict()\n",
    "            feed_dict[inputs] = x\n",
    "            feed_dict[targets] = y\n",
    "\n",
    "            if ('RNN' in MyCell.__name__):\n",
    "                feed_dict[init_state] = state_\n",
    "            else:\n",
    "                feed_dict[init_state.c] = state_.c\n",
    "                feed_dict[init_state.h] = state_.h\n",
    "\n",
    "            test_loss_, state_, test_acc_ = sess.run([loss, \n",
    "                                                      final_state, accuracy], \n",
    "                                                     feed_dict=feed_dict)\n",
    "            test_loss += test_loss_\n",
    "            test_acc += test_acc_\n",
    "        test_loss=test_loss/num_batches\n",
    "        test_acc=test_acc/num_batches\n",
    "        print('test loss:',  test_loss)\n",
    "        print('test error:',  1-test_acc)\n",
    "    return(test_loss, 1-test_acc)"
   ]
  },
  {
   "cell_type": "code",
   "execution_count": 27,
   "metadata": {},
   "outputs": [],
   "source": [
    "def Synthesize(MyCell,init_string=\"None\"):\n",
    "    tf.reset_default_graph()\n",
    "    num_steps_bak=args.num_steps\n",
    "    batch_size_bak=args.batch_size\n",
    "    args.num_steps=1\n",
    "    args.batch_size=1\n",
    "    with tf.variable_scope('placeholders'):\n",
    "            inputs = tf.placeholder(tf.int32, [args.batch_size, \n",
    "                                               args.num_steps])\n",
    "            targets = tf.placeholder(tf.int32, [args.batch_size, \n",
    "                                                args.num_steps])\n",
    "    init_state, train_step, loss, final_state, saver, prob, \n",
    "    accuracy=network(MyCell,inputs,targets)\n",
    "\n",
    "    # Define initialization\n",
    "    if (init_string is None):\n",
    "        initialization = 'Where are you going today?'\n",
    "    else:\n",
    "        initialization = init_string\n",
    "    loader= TextLoader(args.data_dir, batch_size=1, seq_length=1)\n",
    "\n",
    "    forecast_data=np.array(list(map(loader.vocab_to_idx.get,\n",
    "                                    initialization)))\n",
    "    print(forecast_data)\n",
    "    forecast_range = 100\n",
    "    top_k=5\n",
    " \n",
    "    with tf.Session() as sess:\n",
    "\n",
    "        # Load saved model\n",
    "        saver.restore(sess, 'saved_model')\n",
    "        state_ = sess.run(init_state)\n",
    "\n",
    "        # Run rnn on initialization data to get final hidden state before simulation\n",
    "        state_ = sess.run(init_state)\n",
    "        print('data length',forecast_data.shape[0])\n",
    "        for i in range(forecast_data.shape[0]):\n",
    "\n",
    "            feed_dict = dict()\n",
    "            # Feed current predicted\n",
    "            feed_dict[inputs] = forecast_data[i].reshape(args.batch_size, \n",
    "                                                         args.num_steps)\n",
    "            if ('RNN' in MyCell.__name__):\n",
    "                feed_dict[init_state] = state_\n",
    "            else:\n",
    "                feed_dict[init_state.c] = state_.c\n",
    "                feed_dict[init_state.h] = state_.h\n",
    "            # Get new hidden state and prediction probabilities\n",
    "            predicted_prob, state_ = sess.run([prob, final_state], \n",
    "                                              feed_dict=feed_dict)\n",
    "\n",
    "        # last state of this step becomes first state of simulation\n",
    "\n",
    "        for i in range(forecast_range):\n",
    "\n",
    "            feed_dict = dict()\n",
    "            # Feed current predicted\n",
    "            feed_dict[inputs] = forecast_data[-args.num_steps:].reshape(\n",
    "                args.batch_size, args.num_steps)\n",
    "            if ('RNN' in MyCell.__name__):\n",
    "                feed_dict[init_state] = state_\n",
    "            else:\n",
    "                feed_dict[init_state.c] = state_.c\n",
    "                feed_dict[init_state.h] = state_.h\n",
    "            predicted_prob, state_ = sess.run([prob, final_state], \n",
    "                                              feed_dict=feed_dict)\n",
    "\n",
    "            predicted_prob = predicted_prob.ravel()\n",
    "            # Simulate from top top_k probs\n",
    "            predicted_prob[np.argsort(predicted_prob)[:-top_k]] = 0\n",
    "            predicted_prob = predicted_prob/np.sum(predicted_prob)\n",
    "            sample = np.random.choice(args.num_chars, 1, p=predicted_prob)[0]\n",
    "\n",
    "            forecast_data = np.hstack((forecast_data, sample))\n",
    "\n",
    "    forecasted_chars = np.asarray([loader.idx_to_vocab[elem] for \n",
    "                                   elem in forecast_data])\n",
    "\n",
    "    print(''.join(forecasted_chars))\n",
    "  \n",
    "    args.num_steps=num_steps_bak\n",
    "    args.batch_size=batch_size_bak"
   ]
  },
  {
   "cell_type": "code",
   "execution_count": 48,
   "metadata": {},
   "outputs": [
    {
     "name": "stdout",
     "output_type": "stream",
     "text": [
      "train_num_batches 185\n",
      "epoch: 0 loss: 2.38003194074\n",
      "epoch: 0 error: 0.663645270135\n",
      "epoch: 1 loss: 1.83399520887\n",
      "epoch: 1 error: 0.539536037155\n",
      "epoch: 2 loss: 1.66530828605\n",
      "epoch: 2 error: 0.494663289592\n"
     ]
    },
    {
     "data": {
      "image/png": "[encoded data removed]",
      "text/plain": [
       "<Figure size 648x432 with 1 Axes>"
      ]
     },
     "metadata": {},
     "output_type": "display_data"
    },
    {
     "name": "stdout",
     "output_type": "stream",
     "text": [
      "00 hours 02 minutes 01.83 seconds\n"
     ]
    }
   ],
   "source": [
    "# 1. LSTM: modify the netword to plot the error on traing as a function of num_of_epoches\n",
    "re_lstm_basic = trainer(MyBasicLSTMCell, None, True)"
   ]
  },
  {
   "cell_type": "code",
   "execution_count": 49,
   "metadata": {},
   "outputs": [
    {
     "name": "stdout",
     "output_type": "stream",
     "text": [
      "there are preprocessed data - lets load it\n",
      "[39  5  1  7  1  0  4  7  1  0 15  3 13  0 20  3  9  8 20  0  2  3 12  4 15\n",
      " 44]\n",
      "INFO:tensorflow:Restoring parameters from saved_model\n",
      "num_batches 47\n",
      "test loss: 1.63481432073\n",
      "test error: 0.489299641011\n"
     ]
    }
   ],
   "source": [
    "# make prediction on test set\n",
    "test_lstm_basic = Tester(MyBasicLSTMCell)"
   ]
  },
  {
   "cell_type": "code",
   "execution_count": 50,
   "metadata": {},
   "outputs": [
    {
     "name": "stdout",
     "output_type": "stream",
     "text": [
      "there are preprocessed data - lets load it\n",
      "[41  3 17  0  4  7  1  0 15  3 13]\n",
      "INFO:tensorflow:Restoring parameters from saved_model\n",
      "data length 11\n",
      "How are your land,\n",
      "What thy lase it should sto but that hath and be the bady;\n",
      "But is a she will or the beet the\n"
     ]
    }
   ],
   "source": [
    "# experiment with different priming sentenses \n",
    "Synthesize(MyBasicLSTMCell,init_string=\"How are you\")"
   ]
  },
  {
   "cell_type": "code",
   "execution_count": 51,
   "metadata": {},
   "outputs": [
    {
     "name": "stdout",
     "output_type": "stream",
     "text": [
      "there are preprocessed data - lets load it\n",
      "[47  3  8 30  2  0 15  3 13  0 13  8 12  1  7  1  6  2  9 14  4  2  1  0 14\n",
      "  1]\n",
      "INFO:tensorflow:Restoring parameters from saved_model\n",
      "data length 26\n",
      "Don't you underestimate mer,\n",
      "Why seat more his son, to that I what sent a themend\n",
      "And breated whith of thy sayst offecticious.\n"
     ]
    }
   ],
   "source": [
    "Synthesize(MyBasicLSTMCell,init_string=\"Don't you underestimate me\")"
   ]
  },
  {
   "cell_type": "code",
   "execution_count": 52,
   "metadata": {},
   "outputs": [
    {
     "name": "stdout",
     "output_type": "stream",
     "text": [
      "there are preprocessed data - lets load it\n",
      "[29  3  0 11  1  4 12  0  4  0 17  3  8 12  1  7 18 13 11  0 11  9 18  1]\n",
      "INFO:tensorflow:Restoring parameters from saved_model\n",
      "data length 24\n",
      "To lead a wonderful life,\n",
      "With shave bestake the be death, thou art we days, by thome sear\n",
      "I his briding by his father be th\n"
     ]
    }
   ],
   "source": [
    "Synthesize(MyBasicLSTMCell,init_string=\"To lead a wonderful life\")"
   ]
  },
  {
   "cell_type": "code",
   "execution_count": 53,
   "metadata": {},
   "outputs": [
    {
     "name": "stdout",
     "output_type": "stream",
     "text": [
      "train_num_batches 185\n",
      "epoch: 0 loss: 2.2709543879\n",
      "epoch: 0 error: 0.635915540642\n",
      "epoch: 1 loss: 1.83479601628\n",
      "epoch: 1 error: 0.538626126341\n",
      "epoch: 2 loss: 1.68728329749\n",
      "epoch: 2 error: 0.500115989189\n"
     ]
    },
    {
     "data": {
      "image/png": "[encoded data removed]",
      "text/plain": [
       "<Figure size 648x432 with 1 Axes>"
      ]
     },
     "metadata": {},
     "output_type": "display_data"
    },
    {
     "name": "stdout",
     "output_type": "stream",
     "text": [
      "00 hours 00 minutes 50.33 seconds\n"
     ]
    }
   ],
   "source": [
    "# 2. RNN: modify the netword to plot the error on traing as a function of num_of_epoches\n",
    "re_rnn_basic = trainer(MyBasicRNNCell, None, True)"
   ]
  },
  {
   "cell_type": "code",
   "execution_count": 54,
   "metadata": {},
   "outputs": [
    {
     "name": "stdout",
     "output_type": "stream",
     "text": [
      "there are preprocessed data - lets load it\n",
      "[39  5  1  7  1  0  4  7  1  0 15  3 13  0 20  3  9  8 20  0  2  3 12  4 15\n",
      " 44]\n",
      "INFO:tensorflow:Restoring parameters from saved_model\n",
      "num_batches 47\n",
      "test loss: 1.66179060429\n",
      "test error: 0.494383868385\n"
     ]
    }
   ],
   "source": [
    "# make prediction on test set \n",
    "test_rnn_basic = Tester(MyBasicRNNCell)"
   ]
  },
  {
   "cell_type": "code",
   "execution_count": 56,
   "metadata": {},
   "outputs": [
    {
     "name": "stdout",
     "output_type": "stream",
     "text": [
      "there are preprocessed data - lets load it\n",
      "[41  3 17  0  4  7  1  0 15  3 13]\n",
      "INFO:tensorflow:Restoring parameters from saved_model\n",
      "data length 11\n",
      "How are yourd,\n",
      "And seeds and the contens and shrake he die, my lawn but some, and his were in the charted the b\n"
     ]
    }
   ],
   "source": [
    "# experiment with different priming sentenses \n",
    "Synthesize(MyBasicRNNCell,init_string=\"How are you\")"
   ]
  },
  {
   "cell_type": "code",
   "execution_count": 57,
   "metadata": {},
   "outputs": [
    {
     "name": "stdout",
     "output_type": "stream",
     "text": [
      "there are preprocessed data - lets load it\n",
      "[47  3  8 30  2  0 15  3 13  0 13  8 12  1  7  1  6  2  9 14  4  2  1  0 14\n",
      "  1]\n",
      "INFO:tensorflow:Restoring parameters from saved_model\n",
      "data length 26\n",
      "Don't you underestimate met if that is, my but into them a strees mistraled of the present to trese tear and dides thing and t\n"
     ]
    }
   ],
   "source": [
    "Synthesize(MyBasicRNNCell,init_string=\"Don't you underestimate me\")"
   ]
  },
  {
   "cell_type": "code",
   "execution_count": 58,
   "metadata": {},
   "outputs": [
    {
     "name": "stdout",
     "output_type": "stream",
     "text": [
      "there are preprocessed data - lets load it\n",
      "[29  3  0 11  1  4 12  0  4  0 17  3  8 12  1  7 18 13 11  0 11  9 18  1]\n",
      "INFO:tensorflow:Restoring parameters from saved_model\n",
      "data length 24\n",
      "To lead a wonderful lifes, we wall begning by trut be not senself,\n",
      "O thy breathed they day this beed,\n",
      "The seath make and men\n"
     ]
    }
   ],
   "source": [
    "Synthesize(MyBasicRNNCell,init_string=\"To lead a wonderful life\")"
   ]
  },
  {
   "cell_type": "markdown",
   "metadata": {},
   "source": [
    "#### compare models "
   ]
  },
  {
   "cell_type": "markdown",
   "metadata": {},
   "source": [
    "In general, the LSTM model behaves slightly better than RNN model in both training and test sets. However, it takes much longer to run the LSTM than RNN."
   ]
  },
  {
   "cell_type": "code",
   "execution_count": 23,
   "metadata": {},
   "outputs": [
    {
     "name": "stdout",
     "output_type": "stream",
     "text": [
      "there are preprocessed data - lets load it\n"
     ]
    }
   ],
   "source": [
    "# c). Experiment with different models\n",
    "# 1. RNN with same number of LSTM\n",
    "parser = argparse.ArgumentParser()\n",
    "parser.add_argument('--data_dir', default='/project2/cmsc25025/Shakespear/')\n",
    "parser.add_argument('--save_dir', default='./')\n",
    "# Dimension of hidden layer variables h and c\n",
    "parser.add_argument('--num_units', default=128*2*4)\n",
    "parser.add_argument('--batch_size', default=64)\n",
    "# Number of steps in each batch for training\n",
    "parser.add_argument('--num_steps', default=75)\n",
    "parser.add_argument('--num_epochs', default=3)\n",
    "# Time step\n",
    "parser.add_argument('--lr', default=0.002)\n",
    "# Number of possible inputs/outputs \n",
    "parser.add_argument('--num_chars')\n",
    "parser.add_argument('--num_batches',default=20)\n",
    "args, unparsed = parser.parse_known_args()\n",
    "loader = TextLoader(args.data_dir, batch_size=args.batch_size, \n",
    "                    seq_length=args.num_steps)\n",
    "args.num_chars = loader.vocab_size"
   ]
  },
  {
   "cell_type": "code",
   "execution_count": 24,
   "metadata": {},
   "outputs": [
    {
     "name": "stdout",
     "output_type": "stream",
     "text": [
      "train_num_batches 185\n",
      "epoch: 0 loss: 2.48199414949\n",
      "epoch: 0 error: 0.667333332147\n",
      "epoch: 1 loss: 1.88408136883\n",
      "epoch: 1 error: 0.554885133537\n",
      "epoch: 2 loss: 1.7112071295\n",
      "epoch: 2 error: 0.509855854189\n"
     ]
    },
    {
     "data": {
      "image/png": "[encoded data removed]",
      "text/plain": [
       "<Figure size 648x432 with 1 Axes>"
      ]
     },
     "metadata": {},
     "output_type": "display_data"
    },
    {
     "name": "stdout",
     "output_type": "stream",
     "text": [
      "00 hours 04 minutes 46.68 seconds\n",
      "there are preprocessed data - lets load it\n",
      "[39  5  1  7  1  0  4  7  1  0 15  3 13  0 20  3  9  8 20  0  2  3 12  4 15\n",
      " 44]\n",
      "INFO:tensorflow:Restoring parameters from saved_model\n",
      "num_batches 47\n",
      "test loss: 1.68197600639\n",
      "test error: 0.503213650369\n"
     ]
    }
   ],
   "source": [
    "re_rnn_basic1 = trainer(MyBasicRNNCell, None, True)\n",
    "test_rnn_basic1 = Tester(MyBasicRNNCell)"
   ]
  },
  {
   "cell_type": "code",
   "execution_count": 30,
   "metadata": {},
   "outputs": [
    {
     "name": "stdout",
     "output_type": "stream",
     "text": [
      "there are preprocessed data - lets load it\n",
      "[35  3  0 19  3 14  1  0  3  8  0  4  8 12  0  2  7 15 16  0  2  7 15  0  2\n",
      "  3  0  6  5 13  2  0 14  1  0  4  8 12  0 19 13  2  0 14  1  0 12  3 17  8]\n",
      "INFO:tensorflow:Restoring parameters from saved_model\n",
      "data length 50\n",
      "So come on and try, try to shut me and cut me downess to his never to have here a fight of the trusted fears the when, and here, who way to the trumen\n"
     ]
    }
   ],
   "source": [
    "Synthesize(MyBasicRNNCell,init_string=\"So come on and try,\n",
    "           try to shut me and cut me down\")"
   ]
  },
  {
   "cell_type": "code",
   "execution_count": 31,
   "metadata": {},
   "outputs": [
    {
     "name": "stdout",
     "output_type": "stream",
     "text": [
      "there are preprocessed data - lets load it\n",
      "train_num_batches 92\n",
      "epoch: 0 loss: 2.49569989028\n",
      "epoch: 0 error: 0.680829937398\n",
      "epoch: 1 loss: 2.01304888337\n",
      "epoch: 1 error: 0.583368432263\n",
      "epoch: 2 loss: 1.838401499\n",
      "epoch: 2 error: 0.538984375155\n"
     ]
    },
    {
     "data": {
      "image/png": "[encoded data removed]",
      "text/plain": [
       "<Figure size 648x432 with 1 Axes>"
      ]
     },
     "metadata": {},
     "output_type": "display_data"
    },
    {
     "name": "stdout",
     "output_type": "stream",
     "text": [
      "00 hours 00 minutes 56.93 seconds\n",
      "there are preprocessed data - lets load it\n",
      "[39  5  1  7  1  0  4  7  1  0 15  3 13  0 20  3  9  8 20  0  2  3 12  4 15\n",
      " 44]\n",
      "INFO:tensorflow:Restoring parameters from saved_model\n",
      "num_batches 24\n",
      "test loss: 1.78738658627\n",
      "test error: 0.526584204286\n"
     ]
    }
   ],
   "source": [
    "# 2. RNN with changed step size (doubled)\n",
    "# parser.add_argument('--num_steps', default=75*2)\n",
    "parser = argparse.ArgumentParser()\n",
    "parser.add_argument('--data_dir', default='/project2/cmsc25025/Shakespear/')\n",
    "parser.add_argument('--save_dir', default='./')\n",
    "# Dimension of hidden layer variables h and c\n",
    "parser.add_argument('--num_units', default=128*2)\n",
    "parser.add_argument('--batch_size', default=64)\n",
    "# Number of steps in each batch for training\n",
    "parser.add_argument('--num_steps', default=75*2)\n",
    "parser.add_argument('--num_epochs', default=3)\n",
    "# Time step\n",
    "parser.add_argument('--lr', default=0.002)\n",
    "# Number of possible inputs/outputs \n",
    "parser.add_argument('--num_chars')\n",
    "parser.add_argument('--num_batches',default=20)\n",
    "args, unparsed = parser.parse_known_args()\n",
    "loader = TextLoader(args.data_dir, batch_size=args.batch_size, \n",
    "                    seq_length=args.num_steps)\n",
    "args.num_chars = loader.vocab_size\n",
    "re_rnn_basic2 = trainer(MyBasicRNNCell, None, True)\n",
    "test_rnn_basic2 = Tester(MyBasicRNNCell)"
   ]
  },
  {
   "cell_type": "code",
   "execution_count": 32,
   "metadata": {},
   "outputs": [
    {
     "name": "stdout",
     "output_type": "stream",
     "text": [
      "there are preprocessed data - lets load it\n",
      "[35  3  0 19  3 14  1  0  3  8  0  4  8 12  0  2  7 15 16  0  2  7 15  0  2\n",
      "  3  0  6  5 13  2  0 14  1  0  4  8 12  0 19 13  2  0 14  1  0 12  3 17  8]\n",
      "INFO:tensorflow:Restoring parameters from saved_model\n",
      "data length 50\n",
      "So come on and try, try to shut me and cut me downe to ham shall theng but the comer and sen anceraction.\n",
      "Or word, I deet be not bray as theme, that t\n"
     ]
    }
   ],
   "source": [
    "Synthesize(MyBasicRNNCell,init_string=\"So come on and try, \n",
    "           try to shut me and cut me down\")"
   ]
  },
  {
   "cell_type": "code",
   "execution_count": 33,
   "metadata": {},
   "outputs": [
    {
     "name": "stdout",
     "output_type": "stream",
     "text": [
      "there are preprocessed data - lets load it\n",
      "train_num_batches 92\n",
      "epoch: 0 loss: 2.50254704641\n",
      "epoch: 0 error: 0.682451311975\n",
      "epoch: 1 loss: 2.01545318572\n",
      "epoch: 1 error: 0.58548913151\n",
      "epoch: 2 loss: 1.84350794683\n",
      "epoch: 2 error: 0.542430932107\n"
     ]
    },
    {
     "data": {
      "image/png": "[encoded data removed]",
      "text/plain": [
       "<Figure size 648x432 with 1 Axes>"
      ]
     },
     "metadata": {},
     "output_type": "display_data"
    },
    {
     "name": "stdout",
     "output_type": "stream",
     "text": [
      "00 hours 00 minutes 41.40 seconds\n",
      "there are preprocessed data - lets load it\n",
      "[39  5  1  7  1  0  4  7  1  0 15  3 13  0 20  3  9  8 20  0  2  3 12  4 15\n",
      " 44]\n",
      "INFO:tensorflow:Restoring parameters from saved_model\n",
      "num_batches 24\n",
      "test loss: 1.78643634419\n",
      "test error: 0.525855039557\n"
     ]
    }
   ],
   "source": [
    "# 3. RNN with doubled batch size\n",
    "# change the parameter in Textloader class : batch_size=128\n",
    "parser = argparse.ArgumentParser()\n",
    "parser.add_argument('--data_dir', default='/project2/cmsc25025/Shakespear/')\n",
    "parser.add_argument('--save_dir', default='./')\n",
    "# Dimension of hidden layer variables h and c\n",
    "parser.add_argument('--num_units', default=128*2)\n",
    "parser.add_argument('--batch_size', default=64*2)\n",
    "# Number of steps in each batch for training\n",
    "parser.add_argument('--num_steps', default=75)\n",
    "parser.add_argument('--num_epochs', default=3)\n",
    "# Time step\n",
    "parser.add_argument('--lr', default=0.002)\n",
    "# Number of possible inputs/outputs \n",
    "parser.add_argument('--num_chars')\n",
    "parser.add_argument('--num_batches',default=20)\n",
    "args, unparsed = parser.parse_known_args()\n",
    "loader = TextLoader(args.data_dir, batch_size=args.batch_size,\n",
    "                    seq_length=args.num_steps)\n",
    "args.num_chars = loader.vocab_size\n",
    "re_rnn_basic3 = trainer(MyBasicRNNCell, None, True)\n",
    "test_rnn_basic3 = Tester(MyBasicRNNCell)"
   ]
  },
  {
   "cell_type": "code",
   "execution_count": 34,
   "metadata": {},
   "outputs": [
    {
     "name": "stdout",
     "output_type": "stream",
     "text": [
      "there are preprocessed data - lets load it\n",
      "[35  3  0 19  3 14  1  0  3  8  0  4  8 12  0  2  7 15 16  0  2  7 15  0  2\n",
      "  3  0  6  5 13  2  0 14  1  0  4  8 12  0 19 13  2  0 14  1  0 12  3 17  8]\n",
      "INFO:tensorflow:Restoring parameters from saved_model\n",
      "data length 50\n",
      "So come on and try, try to shut me and cut me downes,\n",
      "Bruen, shinks tree thou down.\n",
      "\n",
      "Shanger will I cruesit, betest thou hasting have but that soners \n"
     ]
    }
   ],
   "source": [
    "Synthesize(MyBasicRNNCell,init_string=\"So come on and try, \n",
    "           try to shut me and cut me down\")"
   ]
  },
  {
   "cell_type": "code",
   "execution_count": 35,
   "metadata": {},
   "outputs": [
    {
     "name": "stdout",
     "output_type": "stream",
     "text": [
      "there are preprocessed data - lets load it\n",
      "train_num_batches 185\n",
      "epoch: 0 loss: 3.1026516974\n",
      "epoch: 0 error: 0.795812498219\n",
      "epoch: 1 loss: 2.3981326282\n",
      "epoch: 1 error: 0.679994791001\n",
      "epoch: 2 loss: 2.19750344753\n",
      "epoch: 2 error: 0.630395833403\n"
     ]
    },
    {
     "data": {
      "image/png": "[encoded data removed]",
      "text/plain": [
       "<Figure size 648x432 with 1 Axes>"
      ]
     },
     "metadata": {},
     "output_type": "display_data"
    },
    {
     "name": "stdout",
     "output_type": "stream",
     "text": [
      "00 hours 00 minutes 33.45 seconds\n",
      "there are preprocessed data - lets load it\n",
      "[39  5  1  7  1  0  4  7  1  0 15  3 13  0 20  3  9  8 20  0  2  3 12  4 15\n",
      " 44]\n",
      "INFO:tensorflow:Restoring parameters from saved_model\n",
      "num_batches 40\n",
      "test loss: 2.15049799085\n",
      "test error: 0.619416665286\n"
     ]
    }
   ],
   "source": [
    "# 4. LSTM with doubled number of batches\n",
    "parser = argparse.ArgumentParser()\n",
    "parser.add_argument('--data_dir', default='/project2/cmsc25025/Shakespear/')\n",
    "parser.add_argument('--save_dir', default='./')\n",
    "# Dimension of hidden layer variables h and c\n",
    "parser.add_argument('--num_units', default=128*2)\n",
    "parser.add_argument('--batch_size', default=64)\n",
    "# Number of steps in each batch for training\n",
    "parser.add_argument('--num_steps', default=75)\n",
    "parser.add_argument('--num_epochs', default=3)\n",
    "# Time step\n",
    "parser.add_argument('--lr', default=0.002)\n",
    "# Number of possible inputs/outputs \n",
    "parser.add_argument('--num_chars')\n",
    "parser.add_argument('--num_batches',default=20)\n",
    "args, unparsed = parser.parse_known_args()\n",
    "loader = TextLoader(args.data_dir, batch_size=args.batch_size, \n",
    "                    seq_length=args.num_steps)\n",
    "args.num_chars = loader.vocab_size\n",
    "re_rnn_basic4 = trainer(MyBasicLSTMCell, 40, True)\n",
    "test_rnn_basic4 = Tester(MyBasicLSTMCell, 40)"
   ]
  },
  {
   "cell_type": "code",
   "execution_count": 36,
   "metadata": {},
   "outputs": [
    {
     "name": "stdout",
     "output_type": "stream",
     "text": [
      "there are preprocessed data - lets load it\n",
      "[35  3  0 19  3 14  1  0  3  8  0  4  8 12  0  2  7 15 16  0  2  7 15  0  2\n",
      "  3  0  6  5 13  2  0 14  1  0  4  8 12  0 19 13  2  0 14  1  0 12  3 17  8]\n",
      "INFO:tensorflow:Restoring parameters from saved_model\n",
      "data length 50\n",
      "So come on and try, try to shut me and cut me downt and whand shou sullow, wat it so toust, an sall with the wall that sourder the toor asparens and h\n"
     ]
    }
   ],
   "source": [
    "Synthesize(MyBasicLSTMCell,init_string=\"So come on and try,\n",
    "           try to shut me and cut me down\")"
   ]
  },
  {
   "cell_type": "code",
   "execution_count": 38,
   "metadata": {},
   "outputs": [
    {
     "name": "stdout",
     "output_type": "stream",
     "text": [
      "there are preprocessed data - lets load it\n",
      "train_num_batches 185\n",
      "epoch: 0 loss: 2.42549908741\n",
      "epoch: 0 error: 0.673040540461\n",
      "epoch: 1 loss: 1.87645444677\n",
      "epoch: 1 error: 0.550708332094\n",
      "epoch: 2 loss: 1.70462884967\n",
      "epoch: 2 error: 0.504213963167\n",
      "epoch: 3 loss: 1.60903136601\n",
      "epoch: 3 error: 0.479777026982\n",
      "epoch: 4 loss: 1.54623209077\n",
      "epoch: 4 error: 0.463585585356\n"
     ]
    },
    {
     "data": {
      "image/png": "[encoded data removed]",
      "text/plain": [
       "<Figure size 648x432 with 1 Axes>"
      ]
     },
     "metadata": {},
     "output_type": "display_data"
    },
    {
     "name": "stdout",
     "output_type": "stream",
     "text": [
      "00 hours 03 minutes 42.78 seconds\n",
      "there are preprocessed data - lets load it\n",
      "[39  5  1  7  1  0  4  7  1  0 15  3 13  0 20  3  9  8 20  0  2  3 12  4 15\n",
      " 44]\n",
      "INFO:tensorflow:Restoring parameters from saved_model\n",
      "num_batches 47\n",
      "test loss: 1.54642523096\n",
      "test error: 0.464308509167\n"
     ]
    }
   ],
   "source": [
    "# 5. LSTM with number of epoches = 5\n",
    "# change the parameter in parser.add_argument('--num_epochs', default=5)\n",
    "parser = argparse.ArgumentParser()\n",
    "parser.add_argument('--data_dir', default='/project2/cmsc25025/Shakespear/')\n",
    "parser.add_argument('--save_dir', default='./')\n",
    "# Dimension of hidden layer variables h and c\n",
    "parser.add_argument('--num_units', default=128*2)\n",
    "parser.add_argument('--batch_size', default=64)\n",
    "# Number of steps in each batch for training\n",
    "parser.add_argument('--num_steps', default=75)\n",
    "parser.add_argument('--num_epochs', default=5)\n",
    "# Time step\n",
    "parser.add_argument('--lr', default=0.002)\n",
    "# Number of possible inputs/outputs \n",
    "parser.add_argument('--num_chars')\n",
    "parser.add_argument('--num_batches',default=20)\n",
    "args, unparsed = parser.parse_known_args()\n",
    "loader = TextLoader(args.data_dir, batch_size=args.batch_size,\n",
    "                    seq_length=args.num_steps)\n",
    "args.num_chars = loader.vocab_size\n",
    "re_lstm_basic5 = trainer(MyBasicLSTMCell, None, True)\n",
    "test_lstm_basic5 = Tester(MyBasicLSTMCell)"
   ]
  },
  {
   "cell_type": "code",
   "execution_count": 39,
   "metadata": {},
   "outputs": [
    {
     "name": "stdout",
     "output_type": "stream",
     "text": [
      "there are preprocessed data - lets load it\n",
      "[35  3  0 19  3 14  1  0  3  8  0  4  8 12  0  2  7 15 16  0  2  7 15  0  2\n",
      "  3  0  6  5 13  2  0 14  1  0  4  8 12  0 19 13  2  0 14  1  0 12  3 17  8]\n",
      "INFO:tensorflow:Restoring parameters from saved_model\n",
      "data length 50\n",
      "So come on and try, try to shut me and cut me downow\n",
      "I have not and heavens and here is not and save the\n",
      "have, that thy barn be take hith the born,\n",
      "Al\n"
     ]
    }
   ],
   "source": [
    "Synthesize(MyBasicLSTMCell,init_string=\"So come on and try, \n",
    "           try to shut me and cut me down\")"
   ]
  },
  {
   "cell_type": "markdown",
   "metadata": {},
   "source": [
    "As a conclusion, the LSTM model with the most number of epoches has the lowest error rate. RNN with the same number of parameter as LSTM performs the best in terms of error rate across all RNN models. Doubling the number of batches in LSTM increases the error rate significantly. "
   ]
  }
 ],
 "metadata": {
  "kernelspec": {
   "display_name": "Python 3",
   "language": "python",
   "name": "python3"
  },
  "language_info": {
   "codemirror_mode": {
    "name": "ipython",
    "version": 3
   },
   "file_extension": ".py",
   "mimetype": "text/x-python",
   "name": "python",
   "nbconvert_exporter": "python",
   "pygments_lexer": "ipython3",
   "version": "3.7.1"
  }
 },
 "nbformat": 4,
 "nbformat_minor": 2
}
