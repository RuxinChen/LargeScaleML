{
 "cells": [
  {
   "cell_type": "markdown",
   "metadata": {},
   "source": [
    "### HW3Q6"
   ]
  },
  {
   "cell_type": "code",
   "execution_count": 1,
   "metadata": {},
   "outputs": [],
   "source": [
    "import json\n",
    "import numpy as np\n",
    "import pandas as pd\n",
    "from sklearn.model_selection import KFold\n",
    "from numpy import linalg as LA\n",
    "import re"
   ]
  },
  {
   "cell_type": "code",
   "execution_count": 2,
   "metadata": {},
   "outputs": [],
   "source": [
    "with open('/project2/cmsc25025/beer_review/labeled.json', 'r') as f:\n",
    "    brv = json.loads(f.read())"
   ]
  },
  {
   "cell_type": "code",
   "execution_count": 3,
   "metadata": {},
   "outputs": [
    {
     "data": {
      "text/html": [
       "<div>\n",
       "<style scoped>\n",
       "    .dataframe tbody tr th:only-of-type {\n",
       "        vertical-align: middle;\n",
       "    }\n",
       "\n",
       "    .dataframe tbody tr th {\n",
       "        vertical-align: top;\n",
       "    }\n",
       "\n",
       "    .dataframe thead th {\n",
       "        text-align: right;\n",
       "    }\n",
       "</style>\n",
       "<table border=\"1\" class=\"dataframe\">\n",
       "  <thead>\n",
       "    <tr style=\"text-align: right;\">\n",
       "      <th></th>\n",
       "      <th>appearance</th>\n",
       "      <th>aroma</th>\n",
       "      <th>beer_id</th>\n",
       "      <th>beer_name</th>\n",
       "      <th>brewer</th>\n",
       "      <th>overall</th>\n",
       "      <th>palate</th>\n",
       "      <th>review</th>\n",
       "      <th>review_id</th>\n",
       "      <th>style</th>\n",
       "      <th>taste</th>\n",
       "    </tr>\n",
       "  </thead>\n",
       "  <tbody>\n",
       "    <tr>\n",
       "      <th>0</th>\n",
       "      <td>4.0</td>\n",
       "      <td>6.0</td>\n",
       "      <td>45842</td>\n",
       "      <td>John Harvards Simcoe IPA</td>\n",
       "      <td>3084</td>\n",
       "      <td>13.0</td>\n",
       "      <td>3.0</td>\n",
       "      <td>On tap at the Springfield, PA location. Poured...</td>\n",
       "      <td>0</td>\n",
       "      <td>17</td>\n",
       "      <td>6.0</td>\n",
       "    </tr>\n",
       "    <tr>\n",
       "      <th>1</th>\n",
       "      <td>4.0</td>\n",
       "      <td>6.0</td>\n",
       "      <td>45842</td>\n",
       "      <td>John Harvards Simcoe IPA</td>\n",
       "      <td>3084</td>\n",
       "      <td>13.0</td>\n",
       "      <td>4.0</td>\n",
       "      <td>On tap at the John Harvards in Springfield PA....</td>\n",
       "      <td>1</td>\n",
       "      <td>17</td>\n",
       "      <td>7.0</td>\n",
       "    </tr>\n",
       "    <tr>\n",
       "      <th>2</th>\n",
       "      <td>4.0</td>\n",
       "      <td>5.0</td>\n",
       "      <td>95213</td>\n",
       "      <td>John Harvards Cristal Pilsner</td>\n",
       "      <td>3084</td>\n",
       "      <td>14.0</td>\n",
       "      <td>3.0</td>\n",
       "      <td>UPDATED: FEB 19, 2003 Springfield, PA. I've ne...</td>\n",
       "      <td>2</td>\n",
       "      <td>33</td>\n",
       "      <td>6.0</td>\n",
       "    </tr>\n",
       "    <tr>\n",
       "      <th>3</th>\n",
       "      <td>2.0</td>\n",
       "      <td>4.0</td>\n",
       "      <td>65957</td>\n",
       "      <td>John Harvards Fancy Lawnmower Beer</td>\n",
       "      <td>3084</td>\n",
       "      <td>8.0</td>\n",
       "      <td>2.0</td>\n",
       "      <td>On tap the Springfield PA location billed as t...</td>\n",
       "      <td>3</td>\n",
       "      <td>33</td>\n",
       "      <td>4.0</td>\n",
       "    </tr>\n",
       "    <tr>\n",
       "      <th>4</th>\n",
       "      <td>5.0</td>\n",
       "      <td>8.0</td>\n",
       "      <td>41336</td>\n",
       "      <td>John Harvards Vanilla Black Velvet Stout</td>\n",
       "      <td>3084</td>\n",
       "      <td>16.0</td>\n",
       "      <td>4.0</td>\n",
       "      <td>Springfield, PA location... Poured an opaque b...</td>\n",
       "      <td>5</td>\n",
       "      <td>58</td>\n",
       "      <td>7.0</td>\n",
       "    </tr>\n",
       "  </tbody>\n",
       "</table>\n",
       "</div>"
      ],
      "text/plain": [
       "   appearance  aroma  beer_id                                 beer_name  \\\n",
       "0         4.0    6.0    45842                  John Harvards Simcoe IPA   \n",
       "1         4.0    6.0    45842                  John Harvards Simcoe IPA   \n",
       "2         4.0    5.0    95213             John Harvards Cristal Pilsner   \n",
       "3         2.0    4.0    65957        John Harvards Fancy Lawnmower Beer   \n",
       "4         5.0    8.0    41336  John Harvards Vanilla Black Velvet Stout   \n",
       "\n",
       "   brewer  overall  palate                                             review  \\\n",
       "0    3084     13.0     3.0  On tap at the Springfield, PA location. Poured...   \n",
       "1    3084     13.0     4.0  On tap at the John Harvards in Springfield PA....   \n",
       "2    3084     14.0     3.0  UPDATED: FEB 19, 2003 Springfield, PA. I've ne...   \n",
       "3    3084      8.0     2.0  On tap the Springfield PA location billed as t...   \n",
       "4    3084     16.0     4.0  Springfield, PA location... Poured an opaque b...   \n",
       "\n",
       "   review_id  style  taste  \n",
       "0          0     17    6.0  \n",
       "1          1     17    7.0  \n",
       "2          2     33    6.0  \n",
       "3          3     33    4.0  \n",
       "4          5     58    7.0  "
      ]
     },
     "execution_count": 3,
     "metadata": {},
     "output_type": "execute_result"
    }
   ],
   "source": [
    "beer = pd.DataFrame(brv)\n",
    "beer.head()"
   ]
  },
  {
   "cell_type": "code",
   "execution_count": 17,
   "metadata": {},
   "outputs": [
    {
     "data": {
      "text/plain": [
       "2486348"
      ]
     },
     "execution_count": 17,
     "metadata": {},
     "output_type": "execute_result"
    }
   ],
   "source": [
    "beer.shape[0]"
   ]
  },
  {
   "cell_type": "code",
   "execution_count": 4,
   "metadata": {},
   "outputs": [
    {
     "data": {
      "text/plain": [
       "94388"
      ]
     },
     "execution_count": 4,
     "metadata": {},
     "output_type": "execute_result"
    }
   ],
   "source": [
    "len(beer['beer_name'].unique())"
   ]
  },
  {
   "cell_type": "code",
   "execution_count": 5,
   "metadata": {},
   "outputs": [
    {
     "data": {
      "text/plain": [
       "beer_name\n",
       "&#268;rni Golf                                         12.000000\n",
       "&#268ili Kaimo Tikrasis                                10.000000\n",
       "&#40;Oude&#41; Kwaremont                               12.035714\n",
       "&rsquo;n Vochtige Droom                                13.000000\n",
       "10 Barrel Apocalypse IPA                               14.571429\n",
       "10 Barrel Backdraft IPA                                13.428571\n",
       "10 Barrel Big Black Stout                              16.000000\n",
       "10 Barrel Bourbon Bitter                               15.000000\n",
       "10 Barrel Code 24 Pale Ale                             13.000000\n",
       "10 Barrel Crosby Farms Harvest Fresh Hop Ale           14.000000\n",
       "10 Barrel Dubbel Woody                                 16.000000\n",
       "10 Barrel ISA                                          13.777778\n",
       "10 Barrel Mike Saw a Sasquatch Session Ale             12.500000\n",
       "10 Barrel Nightmare on 12th St.                        15.000000\n",
       "10 Barrel Northwest Red                                14.500000\n",
       "10 Barrel Oregon Brown                                 16.000000\n",
       "10 Barrel Pray for Snow                                17.000000\n",
       "10 Barrel Pray for Snow Winter Strong Ale              14.500000\n",
       "10 Barrel Precursor                                    16.000000\n",
       "10 Barrel S1NISTOR Black Ale                           14.682927\n",
       "10 Barrel Sly 45                                       16.500000\n",
       "10 Barrel Summer Ale                                   13.000000\n",
       "112er Bier Original                                    10.000000\n",
       "12 Horse Ale                                            7.876712\n",
       "12 String Archtop Amber                                14.000000\n",
       "12 String Electric Slide IPA                           13.000000\n",
       "12 String G String Blonde                              15.000000\n",
       "12 String Jam Session IPA                              14.000000\n",
       "13th Century Grut Bier                                 13.986842\n",
       "1420 Ale                                               12.000000\n",
       "                                                         ...    \n",
       "la Fausse Blonde                                        6.000000\n",
       "la Sainte Bernadette                                    4.000000\n",
       "moto-i Futsuu Namasake                                 14.250000\n",
       "moto-i Futsuu Nigori Genshu Sake                       15.000000\n",
       "moto-i Junmai Ginjo Namasake                           15.000000\n",
       "moto-i Junmai Ginjo Yamahai Sake                       17.000000\n",
       "moto-i Junmai Nama Genshu Sake                         14.285714\n",
       "moto-i Junmai Namasake                                 15.400000\n",
       "moto-i Junmai Nigori Namasake                          11.876543\n",
       "n Cider                                                14.000000\n",
       "nen houtse tripel                                      13.000000\n",
       "one bag of hops ipa                                    16.000000\n",
       "sChappeli                                              11.000000\n",
       "sJura                                                  10.636364\n",
       "sWiti                                                  11.545455\n",
       "s`Tunnel                                               13.684211\n",
       "sake2me Asian Pear                                     11.333333\n",
       "sake2me Ginger Mango                                    9.461538\n",
       "sake2me Green Tea                                      10.230769\n",
       "sake2me Yuzu Citrus                                    10.818182\n",
       "sapporo Premium Pilsner &#40;Late 2010 release&#41;    14.000000\n",
       "t Hartje                                               12.210526\n",
       "t Koelschip Amberbier                                  11.500000\n",
       "t Koelschip IJsbier                                    11.000000\n",
       "t Pakhuis Feestbier                                    12.428571\n",
       "t Pakhuis Lente bier                                   13.000000\n",
       "t Pakhuis Winterbier                                   13.428571\n",
       "von Raven Birra Scura                                  10.710526\n",
       "von Raven Mecklenburger Export                          9.032258\n",
       "von Raven Pilsener                                      8.687500\n",
       "Name: overall, Length: 94388, dtype: float64"
      ]
     },
     "execution_count": 5,
     "metadata": {},
     "output_type": "execute_result"
    }
   ],
   "source": [
    "# mean for overall rating by beer\n",
    "beer.groupby(beer['beer_name'])['overall'].mean()"
   ]
  },
  {
   "cell_type": "code",
   "execution_count": 6,
   "metadata": {},
   "outputs": [
    {
     "data": {
      "text/plain": [
       "brewer\n",
       "0       12.836224\n",
       "1       13.251678\n",
       "2       14.822445\n",
       "3       13.800000\n",
       "4       11.640000\n",
       "5       10.000000\n",
       "6        9.861111\n",
       "7        9.206107\n",
       "8       12.442857\n",
       "9        9.533333\n",
       "10      14.141905\n",
       "11      13.867925\n",
       "12      14.573460\n",
       "13      11.000000\n",
       "14      13.333333\n",
       "15       6.123473\n",
       "16      11.900000\n",
       "17      12.831683\n",
       "18      14.210934\n",
       "19      13.358491\n",
       "20      13.950000\n",
       "21      12.414429\n",
       "22      14.584699\n",
       "23       5.000000\n",
       "24      12.750000\n",
       "25       9.135135\n",
       "26      12.615385\n",
       "27      11.550617\n",
       "28      13.200000\n",
       "29      11.000000\n",
       "          ...    \n",
       "7517    14.537500\n",
       "7518    13.285714\n",
       "7519    13.731183\n",
       "7520    11.447154\n",
       "7521    11.861111\n",
       "7522    14.125000\n",
       "7523    11.905983\n",
       "7524    10.222222\n",
       "7525    12.874384\n",
       "7526    12.785714\n",
       "7527    11.000000\n",
       "7528    11.936170\n",
       "7529    13.894737\n",
       "7530    14.333333\n",
       "7531    14.333333\n",
       "7532    12.672794\n",
       "7533    12.442857\n",
       "7534    12.000000\n",
       "7535    13.000000\n",
       "7536    11.352941\n",
       "7537    10.903416\n",
       "7538    13.659341\n",
       "7539    12.000000\n",
       "7540    12.723404\n",
       "7541    11.300000\n",
       "7542    14.631541\n",
       "7543    14.119115\n",
       "7544    14.000000\n",
       "7545    11.658537\n",
       "7546    10.000000\n",
       "Name: overall, Length: 7485, dtype: float64"
      ]
     },
     "execution_count": 6,
     "metadata": {},
     "output_type": "execute_result"
    }
   ],
   "source": [
    "# mean for overall rating by brewer\n",
    "beer.groupby('brewer')['overall'].mean()"
   ]
  },
  {
   "cell_type": "code",
   "execution_count": 7,
   "metadata": {},
   "outputs": [
    {
     "data": {
      "text/plain": [
       "beer_name\n",
       "&#268;rni Golf                                         12.0\n",
       "&#268ili Kaimo Tikrasis                                10.0\n",
       "&#40;Oude&#41; Kwaremont                               12.0\n",
       "&rsquo;n Vochtige Droom                                13.0\n",
       "10 Barrel Apocalypse IPA                               15.0\n",
       "10 Barrel Backdraft IPA                                13.0\n",
       "10 Barrel Big Black Stout                              16.0\n",
       "10 Barrel Bourbon Bitter                               15.0\n",
       "10 Barrel Code 24 Pale Ale                             13.0\n",
       "10 Barrel Crosby Farms Harvest Fresh Hop Ale           14.0\n",
       "10 Barrel Dubbel Woody                                 16.0\n",
       "10 Barrel ISA                                          14.0\n",
       "10 Barrel Mike Saw a Sasquatch Session Ale             12.0\n",
       "10 Barrel Nightmare on 12th St.                        15.0\n",
       "10 Barrel Northwest Red                                14.5\n",
       "10 Barrel Oregon Brown                                 16.0\n",
       "10 Barrel Pray for Snow                                17.0\n",
       "10 Barrel Pray for Snow Winter Strong Ale              14.5\n",
       "10 Barrel Precursor                                    16.0\n",
       "10 Barrel S1NISTOR Black Ale                           15.0\n",
       "10 Barrel Sly 45                                       16.5\n",
       "10 Barrel Summer Ale                                   13.0\n",
       "112er Bier Original                                    10.0\n",
       "12 Horse Ale                                            8.0\n",
       "12 String Archtop Amber                                14.0\n",
       "12 String Electric Slide IPA                           13.0\n",
       "12 String G String Blonde                              15.0\n",
       "12 String Jam Session IPA                              14.0\n",
       "13th Century Grut Bier                                 14.0\n",
       "1420 Ale                                               11.5\n",
       "                                                       ... \n",
       "la Fausse Blonde                                        6.0\n",
       "la Sainte Bernadette                                    4.0\n",
       "moto-i Futsuu Namasake                                 14.0\n",
       "moto-i Futsuu Nigori Genshu Sake                       15.0\n",
       "moto-i Junmai Ginjo Namasake                           15.0\n",
       "moto-i Junmai Ginjo Yamahai Sake                       17.0\n",
       "moto-i Junmai Nama Genshu Sake                         14.0\n",
       "moto-i Junmai Namasake                                 15.0\n",
       "moto-i Junmai Nigori Namasake                          12.0\n",
       "n Cider                                                14.0\n",
       "nen houtse tripel                                      13.0\n",
       "one bag of hops ipa                                    16.0\n",
       "sChappeli                                              11.0\n",
       "sJura                                                  10.0\n",
       "sWiti                                                  12.0\n",
       "s`Tunnel                                               14.0\n",
       "sake2me Asian Pear                                     12.0\n",
       "sake2me Ginger Mango                                    9.0\n",
       "sake2me Green Tea                                      11.0\n",
       "sake2me Yuzu Citrus                                    12.0\n",
       "sapporo Premium Pilsner &#40;Late 2010 release&#41;    14.0\n",
       "t Hartje                                               12.0\n",
       "t Koelschip Amberbier                                  11.5\n",
       "t Koelschip IJsbier                                    13.0\n",
       "t Pakhuis Feestbier                                    13.0\n",
       "t Pakhuis Lente bier                                   13.0\n",
       "t Pakhuis Winterbier                                   13.0\n",
       "von Raven Birra Scura                                  11.0\n",
       "von Raven Mecklenburger Export                         10.0\n",
       "von Raven Pilsener                                      9.0\n",
       "Name: overall, Length: 94388, dtype: float64"
      ]
     },
     "execution_count": 7,
     "metadata": {},
     "output_type": "execute_result"
    }
   ],
   "source": [
    "# median for overall rating by beer\n",
    "beer.groupby(beer['beer_name'])['overall'].median()"
   ]
  },
  {
   "cell_type": "code",
   "execution_count": 8,
   "metadata": {},
   "outputs": [
    {
     "data": {
      "text/plain": [
       "brewer\n",
       "0       13.0\n",
       "1       14.0\n",
       "2       15.0\n",
       "3       14.0\n",
       "4       12.0\n",
       "5       10.0\n",
       "6       11.0\n",
       "7        9.0\n",
       "8       13.0\n",
       "9       10.0\n",
       "10      14.0\n",
       "11      14.0\n",
       "12      15.0\n",
       "13      11.0\n",
       "14      13.0\n",
       "15       5.0\n",
       "16      13.0\n",
       "17      13.0\n",
       "18      14.0\n",
       "19      13.0\n",
       "20      14.0\n",
       "21      13.0\n",
       "22      15.0\n",
       "23       5.0\n",
       "24      13.0\n",
       "25       9.0\n",
       "26      13.0\n",
       "27      12.0\n",
       "28      13.0\n",
       "29      11.0\n",
       "        ... \n",
       "7517    15.0\n",
       "7518    14.0\n",
       "7519    14.0\n",
       "7520    12.0\n",
       "7521    12.0\n",
       "7522    14.0\n",
       "7523    12.0\n",
       "7524    11.0\n",
       "7525    13.0\n",
       "7526    13.0\n",
       "7527    11.0\n",
       "7528    13.0\n",
       "7529    14.0\n",
       "7530    13.0\n",
       "7531    15.0\n",
       "7532    13.0\n",
       "7533    13.0\n",
       "7534    12.0\n",
       "7535    13.0\n",
       "7536    12.0\n",
       "7537    11.0\n",
       "7538    14.0\n",
       "7539    12.0\n",
       "7540    13.0\n",
       "7541    12.0\n",
       "7542    15.0\n",
       "7543    14.0\n",
       "7544    14.0\n",
       "7545    12.0\n",
       "7546    10.0\n",
       "Name: overall, Length: 7485, dtype: float64"
      ]
     },
     "execution_count": 8,
     "metadata": {},
     "output_type": "execute_result"
    }
   ],
   "source": [
    "# median for overall rating by brewer\n",
    "beer.groupby(beer['brewer'])['overall'].median()"
   ]
  },
  {
   "cell_type": "code",
   "execution_count": 9,
   "metadata": {},
   "outputs": [
    {
     "data": {
      "text/plain": [
       "beer_name\n",
       "&#268;rni Golf                                              NaN\n",
       "&#268ili Kaimo Tikrasis                                     NaN\n",
       "&#40;Oude&#41; Kwaremont                               1.971691\n",
       "&rsquo;n Vochtige Droom                                     NaN\n",
       "10 Barrel Apocalypse IPA                               1.698534\n",
       "10 Barrel Backdraft IPA                                1.397276\n",
       "10 Barrel Big Black Stout                                   NaN\n",
       "10 Barrel Bourbon Bitter                                    NaN\n",
       "10 Barrel Code 24 Pale Ale                             1.511858\n",
       "10 Barrel Crosby Farms Harvest Fresh Hop Ale                NaN\n",
       "10 Barrel Dubbel Woody                                      NaN\n",
       "10 Barrel ISA                                          1.262843\n",
       "10 Barrel Mike Saw a Sasquatch Session Ale             1.000000\n",
       "10 Barrel Nightmare on 12th St.                        1.414214\n",
       "10 Barrel Northwest Red                                0.707107\n",
       "10 Barrel Oregon Brown                                      NaN\n",
       "10 Barrel Pray for Snow                                0.000000\n",
       "10 Barrel Pray for Snow Winter Strong Ale              2.121320\n",
       "10 Barrel Precursor                                         NaN\n",
       "10 Barrel S1NISTOR Black Ale                           1.780997\n",
       "10 Barrel Sly 45                                       0.707107\n",
       "10 Barrel Summer Ale                                        NaN\n",
       "112er Bier Original                                    1.000000\n",
       "12 Horse Ale                                           3.419492\n",
       "12 String Archtop Amber                                     NaN\n",
       "12 String Electric Slide IPA                                NaN\n",
       "12 String G String Blonde                              0.000000\n",
       "12 String Jam Session IPA                                   NaN\n",
       "13th Century Grut Bier                                 2.201070\n",
       "1420 Ale                                               2.280351\n",
       "                                                         ...   \n",
       "la Fausse Blonde                                       3.000000\n",
       "la Sainte Bernadette                                   2.828427\n",
       "moto-i Futsuu Namasake                                 0.500000\n",
       "moto-i Futsuu Nigori Genshu Sake                            NaN\n",
       "moto-i Junmai Ginjo Namasake                           1.000000\n",
       "moto-i Junmai Ginjo Yamahai Sake                       1.000000\n",
       "moto-i Junmai Nama Genshu Sake                         1.380131\n",
       "moto-i Junmai Namasake                                 1.140175\n",
       "moto-i Junmai Nigori Namasake                          2.152805\n",
       "n Cider                                                     NaN\n",
       "nen houtse tripel                                      0.000000\n",
       "one bag of hops ipa                                         NaN\n",
       "sChappeli                                              1.414214\n",
       "sJura                                                  2.110579\n",
       "sWiti                                                  2.067058\n",
       "s`Tunnel                                               1.529438\n",
       "sake2me Asian Pear                                     2.103388\n",
       "sake2me Ginger Mango                                   2.221688\n",
       "sake2me Green Tea                                      4.186364\n",
       "sake2me Yuzu Citrus                                    2.600699\n",
       "sapporo Premium Pilsner &#40;Late 2010 release&#41;         NaN\n",
       "t Hartje                                               3.735400\n",
       "t Koelschip Amberbier                                  0.707107\n",
       "t Koelschip IJsbier                                    5.291503\n",
       "t Pakhuis Feestbier                                    2.070197\n",
       "t Pakhuis Lente bier                                        NaN\n",
       "t Pakhuis Winterbier                                   1.133893\n",
       "von Raven Birra Scura                                  1.844025\n",
       "von Raven Mecklenburger Export                         2.979829\n",
       "von Raven Pilsener                                     2.347786\n",
       "Name: overall, Length: 94388, dtype: float64"
      ]
     },
     "execution_count": 9,
     "metadata": {},
     "output_type": "execute_result"
    }
   ],
   "source": [
    "# standard deviation for overall rating by beer\n",
    "beer.groupby(beer['beer_name'])['overall'].std()"
   ]
  },
  {
   "cell_type": "code",
   "execution_count": 10,
   "metadata": {},
   "outputs": [
    {
     "data": {
      "text/plain": [
       "brewer\n",
       "0       2.545751\n",
       "1       2.802190\n",
       "2       2.243593\n",
       "3       2.949576\n",
       "4       2.505178\n",
       "5            NaN\n",
       "6       4.685252\n",
       "7       3.175415\n",
       "8       2.184502\n",
       "9       3.758166\n",
       "10      2.223685\n",
       "11      1.652943\n",
       "12      2.735385\n",
       "13      2.828427\n",
       "14      0.577350\n",
       "15      4.432520\n",
       "16      3.510302\n",
       "17      3.025255\n",
       "18      2.455317\n",
       "19      1.755150\n",
       "20      2.438613\n",
       "21      2.579429\n",
       "22      2.293800\n",
       "23           NaN\n",
       "24      2.314550\n",
       "25      4.151052\n",
       "26      1.444352\n",
       "27      2.167613\n",
       "28      0.836660\n",
       "29           NaN\n",
       "          ...   \n",
       "7517    2.657417\n",
       "7518    2.521882\n",
       "7519    1.694876\n",
       "7520    2.554558\n",
       "7521    2.860098\n",
       "7522    1.246423\n",
       "7523    2.766745\n",
       "7524    2.981424\n",
       "7525    2.033421\n",
       "7526    1.805060\n",
       "7527         NaN\n",
       "7528    2.130567\n",
       "7529    1.822536\n",
       "7530    3.214550\n",
       "7531    1.759329\n",
       "7532    1.836368\n",
       "7533    1.953677\n",
       "7534    2.198484\n",
       "7535    1.414214\n",
       "7536    2.072655\n",
       "7537    2.548603\n",
       "7538    3.026622\n",
       "7539    0.000000\n",
       "7540    2.104778\n",
       "7541    2.750757\n",
       "7542    2.076136\n",
       "7543    2.545944\n",
       "7544         NaN\n",
       "7545    2.304057\n",
       "7546    4.242641\n",
       "Name: overall, Length: 7485, dtype: float64"
      ]
     },
     "execution_count": 10,
     "metadata": {},
     "output_type": "execute_result"
    }
   ],
   "source": [
    "# standard deviation for overall rating by brewer\n",
    "beer.groupby(beer['brewer'])['overall'].std()"
   ]
  },
  {
   "cell_type": "markdown",
   "metadata": {},
   "source": [
    "It can be seen that the median and standard deviation of overall rating differ across beer and brewers. The standard deviation for each brewer and beer is not homogeneous -- suggesting that people have different tastes. "
   ]
  },
  {
   "cell_type": "code",
   "execution_count": 4,
   "metadata": {},
   "outputs": [],
   "source": [
    "# Part 2: Sentiment analysis\n",
    "# load the vocabulary \n",
    "with open('/project/cmsc25025/beer_review/vocab_50.json', 'r') as f:\n",
    "    vocab = json.load(f)"
   ]
  },
  {
   "cell_type": "code",
   "execution_count": 5,
   "metadata": {},
   "outputs": [],
   "source": [
    "# a). generate features \n",
    "X = list(beer['review'])\n",
    "y = list(beer['overall'])\n",
    "y = [1 if i >= 14 else 0 for i in y]"
   ]
  },
  {
   "cell_type": "code",
   "execution_count": 6,
   "metadata": {},
   "outputs": [],
   "source": [
    "from scipy.sparse import csr_matrix\n",
    "from string import punctuation\n",
    "# create a sparse matrix\n",
    "def extract_feature(X, vocab):\n",
    "    # extract features text review given a vacab\n",
    "    row, col = [], []\n",
    "    for i in range(len(X)):\n",
    "        # remove trailing and leading punctuation\n",
    "        all_words = re.findall(r'\\w+', X[i])\n",
    "        all_words = set([all_words[j].lower() for j in range(len(all_words))])       \n",
    "        for word in all_words: \n",
    "            if word in vocab:\n",
    "                row.append(i)\n",
    "                col.append(vocab[word])\n",
    "    data = np.ones(len(row), dtype=np.int32)\n",
    "    mat = csr_matrix((data, (row, col)), shape=(len(X), len(vocab)))\n",
    "    return mat"
   ]
  },
  {
   "cell_type": "code",
   "execution_count": 7,
   "metadata": {},
   "outputs": [],
   "source": [
    "mat = extract_feature(X, vocab)"
   ]
  },
  {
   "cell_type": "code",
   "execution_count": 8,
   "metadata": {},
   "outputs": [],
   "source": [
    "# remove all-zero rows\n",
    "index = mat.sum(1).nonzero()[0]\n",
    "X = [X[i] for i in index]\n",
    "y = [y[i] for i in index]"
   ]
  },
  {
   "cell_type": "code",
   "execution_count": 9,
   "metadata": {},
   "outputs": [],
   "source": [
    "# create features from vocabulary \n",
    "X = extract_feature(X, vocab)"
   ]
  },
  {
   "cell_type": "code",
   "execution_count": 10,
   "metadata": {},
   "outputs": [],
   "source": [
    "# test-train sample split\n",
    "from sklearn.model_selection import train_test_split\n",
    "X_train, X_test, y_train, y_test = train_test_split(X, \n",
    "                    y, test_size=0.3, random_state=0)\n",
    "X_valid, X_test, y_valid, y_test = train_test_split(X_test,\n",
    "                    y_test, test_size=0.5, random_state=0)"
   ]
  },
  {
   "cell_type": "code",
   "execution_count": 11,
   "metadata": {},
   "outputs": [],
   "source": [
    "# Logistic regression using Newton’s method\n",
    "from sklearn.linear_model import LogisticRegression\n",
    "import matplotlib.pyplot as plt\n",
    "import warnings\n",
    "warnings.filterwarnings(\"ignore\")\n",
    "def select_regularization(X, y, lambs):    \n",
    "    # initialize mse sets \n",
    "    err = np.zeros(len(lambs))\n",
    "    for i in range(len(lambs)):\n",
    "        clf = LogisticRegression(penalty='l2', solver='lbfgs', \n",
    "            max_iter=1000, random_state=0, C=1/lambs[i]).fit(X, y)\n",
    "        err[i] = np.mean((clf.predict(X) != y))\n",
    "        print('Error Rate for lambda = {}: '.format(lambs[i]\n",
    "                                            ), round(err[i],6))\n",
    "    return err"
   ]
  },
  {
   "cell_type": "code",
   "execution_count": 12,
   "metadata": {},
   "outputs": [
    {
     "name": "stdout",
     "output_type": "stream",
     "text": [
      "Error Rate for lambda = 0.001:  0.182967\n",
      "Error Rate for lambda = 0.01:  0.182967\n",
      "Error Rate for lambda = 0.1:  0.183394\n",
      "Error Rate for lambda = 1:  0.187998\n",
      "Error Rate for lambda = 10:  0.199925\n"
     ]
    }
   ],
   "source": [
    "err = select_regularization(X_valid, y_valid, lambs)"
   ]
  },
  {
   "cell_type": "code",
   "execution_count": 21,
   "metadata": {},
   "outputs": [
    {
     "data": {
      "image/png": "[encoded data removed]",
      "text/plain": [
       "<Figure size 864x432 with 1 Axes>"
      ]
     },
     "metadata": {
      "needs_background": "light"
     },
     "output_type": "display_data"
    }
   ],
   "source": [
    "fig = plt.figure(figsize=(12,6))\n",
    "plt.plot(np.log10(lambs), err)\n",
    "plt.ylabel('Error Rate')\n",
    "plt.show()"
   ]
  },
  {
   "cell_type": "code",
   "execution_count": 15,
   "metadata": {},
   "outputs": [
    {
     "name": "stdout",
     "output_type": "stream",
     "text": [
      "Error Rate for lambda = 0.001:  0.210659\n"
     ]
    }
   ],
   "source": [
    "# performance on test set\n",
    "clf = LogisticRegression(penalty='l2', solver='lbfgs', \n",
    "    max_iter=1000, random_state=0, C=1/0.001).fit(X_train, y_train)\n",
    "er = np.mean((clf.predict(X_test) != y_test))\n",
    "print('Error Rate for lambda = {}: '.format(0.001), round(er,6))"
   ]
  },
  {
   "cell_type": "code",
   "execution_count": 48,
   "metadata": {},
   "outputs": [],
   "source": [
    "# fit with SVC\n",
    "from sklearn.svm import LinearSVC\n",
    "def select_regularization_svc(X, y, lambs):    \n",
    "    # initialize mse sets \n",
    "    err = np.zeros(len(lambs))\n",
    "    for i in range(len(lambs)):\n",
    "        clf = LinearSVC(penalty='l2', random_state=0, \n",
    "            loss='hinge', C=1/lambs[i]).fit(X, y)\n",
    "        err[i] = np.mean(clf.predict(X) != y)\n",
    "        print('Error Rate for lambda = {}: '.format(lambs[i]\n",
    "                                    ), round(err[i],6))\n",
    "    return err"
   ]
  },
  {
   "cell_type": "code",
   "execution_count": 52,
   "metadata": {},
   "outputs": [
    {
     "name": "stdout",
     "output_type": "stream",
     "text": [
      "Error Rate for lambda = 0.001:  0.284373\n",
      "Error Rate for lambda = 0.01:  0.255797\n",
      "Error Rate for lambda = 0.1:  0.179502\n",
      "Error Rate for lambda = 1:  0.182524\n",
      "Error Rate for lambda = 10:  0.193943\n"
     ]
    }
   ],
   "source": [
    "lambs = [0.001, 0.01, 0.1, 1, 10]\n",
    "err_svc = select_regularization_svc(X_valid, y_valid, lambs)"
   ]
  },
  {
   "cell_type": "code",
   "execution_count": 20,
   "metadata": {},
   "outputs": [
    {
     "data": {
      "image/png": "[encoded data removed]",
      "text/plain": [
       "<Figure size 864x432 with 1 Axes>"
      ]
     },
     "metadata": {
      "needs_background": "light"
     },
     "output_type": "display_data"
    }
   ],
   "source": [
    "fig = plt.figure(figsize=(12,6))\n",
    "plt.plot(np.log10(lambs), err_svc)\n",
    "plt.ylabel('Error Rate')\n",
    "plt.show()"
   ]
  },
  {
   "cell_type": "code",
   "execution_count": 19,
   "metadata": {},
   "outputs": [
    {
     "name": "stdout",
     "output_type": "stream",
     "text": [
      "Error Rate for lambda = 0.1:  0.210307\n"
     ]
    }
   ],
   "source": [
    "# performance on test set\n",
    "clf = LogisticRegression(penalty='l2', solver='lbfgs', max_iter=1000, \n",
    "                         random_state=0, C=1/0.1).fit(X_train, y_train)\n",
    "er_svc = np.mean((clf.predict(X_test) != y_test))\n",
    "print('Error Rate for lambda = {}: '.format(0.1), round(er_svc,6))"
   ]
  },
  {
   "cell_type": "markdown",
   "metadata": {},
   "source": [
    "In general, error rate for validation set is lower for applying the logistic regression than applying SVM. However, the error rate for test set does not differ much for the two measures."
   ]
  },
  {
   "cell_type": "code",
   "execution_count": 22,
   "metadata": {},
   "outputs": [],
   "source": [
    "# Stochastic gradient descent\n",
    "# i. Initialize the model with θ = 0 (uniform).\n",
    "# ii. Randomly split the training data into mini-batches. Make one pass of the data, processing\n",
    "# one mini-batch in every iteration. This is called one training epoch\n",
    "# iii. Repeat the last step a few times."
   ]
  },
  {
   "cell_type": "code",
   "execution_count": 23,
   "metadata": {},
   "outputs": [],
   "source": [
    "def sigmoid(x):\n",
    "    return 1/(1 + np.exp(-x))"
   ]
  },
  {
   "cell_type": "code",
   "execution_count": 44,
   "metadata": {},
   "outputs": [],
   "source": [
    "# loss function for logistic regression : \n",
    "# L = -(y*log(1/(1+exp(-theta*x))) + (1-y)*log(1/(1+exp(theta*x))))\n",
    "# gradient G = - (y - 1/(1 + exp(-theta*x)))*x\n",
    "def sgd(X, y, n_batches, learning_rate, lamb, max_epoch, decay, max_iter):\n",
    "    y = np.array(y).reshape((len(y), 1))\n",
    "    # initialize theta \n",
    "    theta = np.zeros((X.shape[1], 1))\n",
    "    t, epoch = 0, 0\n",
    "    diverge = True\n",
    "    while epoch <= max_epoch and diverge:\n",
    "        batch = 0\n",
    "        epoch += 1\n",
    "        # divide into mini-batches\n",
    "        kf = KFold(n_splits=n_batches, shuffle=True)\n",
    "        for train_index, test_index in kf.split(X):\n",
    "            batch += 1\n",
    "            t += 1\n",
    "            X_train = X[test_index,: ]\n",
    "            y_train = y[test_index]\n",
    "            # make prediction\n",
    "            eta = X_train@theta\n",
    "            h = sigmoid(eta)\n",
    "            # update theta\n",
    "            G = (X_train.T)@(y_train - h)/y_train.shape[0] - lamb*theta\n",
    "            # apply a L2 regularization\n",
    "            old_theta = theta \n",
    "            theta = theta + learning_rate* G\n",
    "            # update learning rate\n",
    "            learning_rate = learning_rate * decay\n",
    "            if LA.norm(old_theta - theta) < 10**(-4):\n",
    "                diverge = False\n",
    "                break\n",
    "            if t >= max_iter:\n",
    "                break\n",
    "        if t >= max_iter:\n",
    "            break           \n",
    "    #print('Iteration:{}'.format(t))\n",
    "    return theta"
   ]
  },
  {
   "cell_type": "code",
   "execution_count": 40,
   "metadata": {},
   "outputs": [],
   "source": [
    "def select_model(X, y, n_batches, learning_rate, lambs, decay):\n",
    "    # initialize mse sets \n",
    "    for i in range(len(lambs)):\n",
    "        theta = sgd(X, y, n_batches, learning_rate, lambs[i], 100, decay, 10000)\n",
    "        # make prediction\n",
    "        eta = X.dot(theta)  \n",
    "        h = sigmoid(eta)       \n",
    "        y_pred = np.array([1 if h[i] >= 0.5 else 0 for i in range(len(y))]) \n",
    "        print('Error Rate for lambda = {}: '.format(lambs[i]), \n",
    "              round(np.mean(y_pred != y),6))"
   ]
  },
  {
   "cell_type": "code",
   "execution_count": 41,
   "metadata": {},
   "outputs": [],
   "source": [
    "# split data\n",
    "X_tr, X_te, y_tr, y_te = train_test_split(X[:10000,:], y[:10000] ,\n",
    "                        test_size=0.3, random_state=0)\n",
    "X_val, X_te, y_val, y_te = train_test_split(X_te,\n",
    "                        y_te, test_size=0.5, random_state=0)"
   ]
  },
  {
   "cell_type": "markdown",
   "metadata": {},
   "source": [
    "##### Decreasing Rate, Learning Rate = 10"
   ]
  },
  {
   "cell_type": "code",
   "execution_count": 65,
   "metadata": {},
   "outputs": [
    {
     "name": "stdout",
     "output_type": "stream",
     "text": [
      "Error Rate for lambda = 0.0001:  0.278\n",
      "Error Rate for lambda = 0.0005:  0.281333\n",
      "Error Rate for lambda = 0.001:  0.282\n",
      "Error Rate for lambda = 0.005:  0.281333\n",
      "Error Rate for lambda = 0.01:  0.262667\n",
      "Error Rate for lambda = 0.05:  0.283333\n",
      "Error Rate for lambda = 0.1:  0.281333\n"
     ]
    }
   ],
   "source": [
    "lambs = [0.0001, 0.0005, 0.001, 0.005, 0.01, 0.05, 0.1]\n",
    "select_model(X_val, y_val, 100, 0.05, lambs, 0.9)"
   ]
  },
  {
   "cell_type": "markdown",
   "metadata": {},
   "source": [
    "Since applying fixed rate is harder to satisfy the stopping criterion (norm of changes in theta after each iteration). In my experiment, after 100 iteration for the whole data set, none of the cases converges. The error rate increases fast as lambda increases. In addition to this, training the model takes much longer if we apply the fixed rate compared to a decreasing rate (run time not reported here). Hence, in the following part, I use decreasing rate with lambda = 0.01. "
   ]
  },
  {
   "cell_type": "code",
   "execution_count": 63,
   "metadata": {},
   "outputs": [],
   "source": [
    "def plot_iteration(X, y):\n",
    "    loss = np.zeros(100)\n",
    "    for i in range(100):\n",
    "        theta = sgd(X, y, 100, 0.05, 0.01, 100, 0.9, i)\n",
    "        y = np.array(y)\n",
    "        # make prediction\n",
    "        eta = X@theta\n",
    "        h = sigmoid(eta)\n",
    "        log_h = np.log(h)\n",
    "        # calculate loss function\n",
    "        l = np.sum(y*log_h + (1-y)*(1- log_h))\n",
    "        loss[i] = l\n",
    "    fig = plt.figure(figsize=(6,4))\n",
    "    plt.plot(list(range(100)), loss)\n",
    "    plt.ylabel('Negative Loss')\n",
    "    plt.show()\n",
    "    return loss   "
   ]
  },
  {
   "cell_type": "markdown",
   "metadata": {},
   "source": [
    "##### plot loss function as number of iteration on validation set"
   ]
  },
  {
   "cell_type": "code",
   "execution_count": 66,
   "metadata": {},
   "outputs": [
    {
     "data": {
      "image/png": "[encoded data removed]",
      "text/plain": [
       "<Figure size 432x288 with 1 Axes>"
      ]
     },
     "metadata": {
      "needs_background": "light"
     },
     "output_type": "display_data"
    }
   ],
   "source": [
    "l = plot_iteration(X_val, y_val)"
   ]
  },
  {
   "cell_type": "markdown",
   "metadata": {},
   "source": [
    "##### plot loss function as number of iteration on training set"
   ]
  },
  {
   "cell_type": "code",
   "execution_count": 67,
   "metadata": {},
   "outputs": [
    {
     "data": {
      "image/png": "[encoded data removed]",
      "text/plain": [
       "<Figure size 432x288 with 1 Axes>"
      ]
     },
     "metadata": {
      "needs_background": "light"
     },
     "output_type": "display_data"
    }
   ],
   "source": [
    "l_t = plot_iteration(X_tr, y_tr)"
   ]
  },
  {
   "cell_type": "code",
   "execution_count": 68,
   "metadata": {},
   "outputs": [],
   "source": [
    "def predict(X_tr, y_tr, X_te, y_te,n_batches):\n",
    "    theta = sgd(X_tr, y_tr, n_batches, 0.05, 0.01, 100, 0.9, 1000)\n",
    "    # make prediction\n",
    "    eta = X_te.dot(theta)  \n",
    "    h = sigmoid(eta)       \n",
    "    y_pred = np.array([1 if h[i] >= 0.5 else 0 for i in range(len(y_te))]) \n",
    "    print('Error Rate for lambda = {}: '.format(0.01), \n",
    "          round(np.mean(y_pred != y_te),6))"
   ]
  },
  {
   "cell_type": "markdown",
   "metadata": {},
   "source": [
    "#### error rate on test set"
   ]
  },
  {
   "cell_type": "code",
   "execution_count": 224,
   "metadata": {},
   "outputs": [
    {
     "name": "stdout",
     "output_type": "stream",
     "text": [
      "Error Rate for lambda = 0.01:  0.21\n"
     ]
    }
   ],
   "source": [
    "predict(X_tr, y_tr, X_te, y_te, 100)"
   ]
  },
  {
   "cell_type": "code",
   "execution_count": 70,
   "metadata": {},
   "outputs": [],
   "source": [
    "# Part 3: Scores versus text\n",
    "Xs= beer[['appearance', 'aroma', 'palate', 'style', 'taste']][:10000]\n",
    "Xs = np.array(Xs).reshape((10000, 5))\n",
    "# split data\n",
    "Xs_tr, Xs_te = train_test_split(Xs, test_size=0.3, random_state=0)\n",
    "Xs_val, Xs_te = train_test_split(Xs_te, test_size=0.5, random_state=0)"
   ]
  },
  {
   "cell_type": "markdown",
   "metadata": {},
   "source": [
    "##### plot loss function as number of iteration on validation set"
   ]
  },
  {
   "cell_type": "code",
   "execution_count": 71,
   "metadata": {},
   "outputs": [
    {
     "data": {
      "image/png": "[encoded data removed]",
      "text/plain": [
       "<Figure size 432x288 with 1 Axes>"
      ]
     },
     "metadata": {
      "needs_background": "light"
     },
     "output_type": "display_data"
    }
   ],
   "source": [
    "ls = plot_iteration(Xs_val, y_val)"
   ]
  },
  {
   "cell_type": "markdown",
   "metadata": {},
   "source": [
    "##### plot loss function as number of iteration on training set"
   ]
  },
  {
   "cell_type": "code",
   "execution_count": 72,
   "metadata": {},
   "outputs": [
    {
     "data": {
      "image/png": "[encoded data removed]",
      "text/plain": [
       "<Figure size 432x288 with 1 Axes>"
      ]
     },
     "metadata": {
      "needs_background": "light"
     },
     "output_type": "display_data"
    }
   ],
   "source": [
    "ls_t = plot_iteration(Xs_tr, y_tr)"
   ]
  },
  {
   "cell_type": "markdown",
   "metadata": {},
   "source": [
    "#### error rate on test set"
   ]
  },
  {
   "cell_type": "code",
   "execution_count": 225,
   "metadata": {},
   "outputs": [
    {
     "name": "stdout",
     "output_type": "stream",
     "text": [
      "Error Rate for lambda = 0.01:  0.248\n"
     ]
    }
   ],
   "source": [
    "predict(Xs_tr, y_tr, Xs_te, y_te, 100)"
   ]
  },
  {
   "cell_type": "markdown",
   "metadata": {},
   "source": [
    "It can be seen that the prediction using all reviews is better than using other score data. It suggests that reviews might contain more information than the score data. Given the feature we extracted from review data consists of 30000+ dimensions, it makes sense that prediction based on this high dimensional data is better. "
   ]
  }
 ],
 "metadata": {
  "kernelspec": {
   "display_name": "Python 3",
   "language": "python",
   "name": "python3"
  },
  "language_info": {
   "codemirror_mode": {
    "name": "ipython",
    "version": 3
   },
   "file_extension": ".py",
   "mimetype": "text/x-python",
   "name": "python",
   "nbconvert_exporter": "python",
   "pygments_lexer": "ipython3",
   "version": "3.7.1"
  }
 },
 "nbformat": 4,
 "nbformat_minor": 2
}
